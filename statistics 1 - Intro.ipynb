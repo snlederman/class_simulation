{
 "cells": [
  {
   "cell_type": "code",
   "outputs": [],
   "source": [
    "def answer_1(x):\n",
    "    solution = 'The elements of \\u03A9 are mutually exclusive and collectively exhaustive, and therefore \\u03A9 is a legitimate sample space.'\n",
    "    if x == 'Yes':\n",
    "        return 'Correct. ' + solution\n",
    "    else:\n",
    "        return 'Incorrect. ' + solution"
   ],
   "metadata": {
    "collapsed": false
   },
   "id": "31bef5fb9727ab3",
   "execution_count": null
  },
  {
   "cell_type": "code",
   "outputs": [],
   "source": [
    "def answer_2(x):\n",
    "    solution = 'If the outcome is “Tails and it is not raining,\" then the outcome “Tails\" will have also occurred. Therefore the elements of \\u03A9 are not mutually exclusive, and \\u03A9 is not a legitimate sample space.'\n",
    "    if x == 'Yes':\n",
    "        return 'Incorrect. ' + solution\n",
    "    else:\n",
    "        return 'Correct. ' + solution"
   ],
   "metadata": {
    "collapsed": false
   },
   "id": "e6a010ebf6ea82a2",
   "execution_count": null
  },
  {
   "cell_type": "code",
   "outputs": [],
   "source": [
    "def answer_3(x):\n",
    "    solution = 'Under a bad forecast, there are mutliple scenarios, so a bad forecast must correspond to starting along the lower branch. Furthermore, if Paul goes out, there are two further possibilities, and these must correspond to leaves 3 and 4. Therefore, the event of staying home must correspond to leaf 2.'\n",
    "    if x == '2':\n",
    "        return 'Correct. ' + solution\n",
    "    else:\n",
    "        return 'Incorrect. ' + solution"
   ],
   "metadata": {
    "collapsed": false
   },
   "id": "a1cc5da6159eeaaf",
   "execution_count": null
  },
  {
   "cell_type": "markdown",
   "id": "defensive-geology",
   "metadata": {
    "id": "defensive-geology"
   },
   "source": [
    "## Probability models and axioms"
   ]
  },
  {
   "cell_type": "markdown",
   "source": [
    "## Exercise: Sample space"
   ],
   "metadata": {
    "collapsed": false
   },
   "id": "699a6832e03a1445"
  },
  {
   "cell_type": "markdown",
   "source": [
    "For the experiment of flipping a coin, and for each one of the following choices, determine whether we have a legitimate sample space:\n",
    "\n",
    "## $\\Omega$ = {Heads and it is raining, Heads and it is not raining, Tails}."
   ],
   "metadata": {
    "collapsed": false
   },
   "id": "3efe7a2b923bdc2"
  },
  {
   "cell_type": "code",
   "outputs": [],
   "source": [
    "answer = input('Yes or No?')\n",
    "answer_1(answer)"
   ],
   "metadata": {
    "collapsed": false
   },
   "id": "a31fec769116a4f0",
   "execution_count": null
  },
  {
   "cell_type": "markdown",
   "source": [
    "## $\\Omega$ = {Heads and it is raining, Tails and it is not raining, Tails}."
   ],
   "metadata": {
    "collapsed": false
   },
   "id": "4707e482410c6e4c"
  },
  {
   "cell_type": "code",
   "outputs": [],
   "source": [
    "answer = input('Yes or No?')\n",
    "answer_2(answer)"
   ],
   "metadata": {
    "collapsed": false
   },
   "id": "845c96bc5f150120",
   "execution_count": null
  }
 ],
 "metadata": {
  "kernelspec": {
   "display_name": "Python 3 (ipykernel)",
   "language": "python",
   "name": "python3"
  },
  "language_info": {
   "codemirror_mode": {
    "name": "ipython",
    "version": 3
   },
   "file_extension": ".py",
   "mimetype": "text/x-python",
   "name": "python",
   "nbconvert_exporter": "python",
   "pygments_lexer": "ipython3",
   "version": "3.7.13"
  },
  "colab": {
   "provenance": []
  }
 },
 "nbformat": 4,
 "nbformat_minor": 5
}
